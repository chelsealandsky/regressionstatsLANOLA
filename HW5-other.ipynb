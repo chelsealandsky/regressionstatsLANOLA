{
 "cells": [
  {
   "cell_type": "markdown",
   "id": "fb948dc7",
   "metadata": {},
   "source": [
    "# HW5\n",
    "## Part I: Statistical significance of regression"
   ]
  },
  {
   "cell_type": "code",
   "execution_count": 1,
   "id": "0ac26ad3",
   "metadata": {},
   "outputs": [],
   "source": [
    "import numpy as np\n",
    "import pandas as pd\n",
    "import matplotlib.pyplot as plt\n",
    "import numpy.ma as ma"
   ]
  },
  {
   "cell_type": "code",
   "execution_count": 2,
   "id": "d79feac0",
   "metadata": {},
   "outputs": [],
   "source": [
    "# time range 1884-2020\n",
    "tr=[1884,2020]\n",
    "df=pd.read_excel('LAmeantempdata.xlsx')\n",
    "data=df.to_numpy()\n",
    "data[data==-999]=np.nan\n",
    "x0=data[:,0]\n",
    "tind=(x0>=tr[0]) & (x0<=tr[1])\n",
    "year=data[tind,0] # time\n",
    "apr1=data[tind,4] # April\n",
    "nov1=data[tind,11] # November"
   ]
  },
  {
   "cell_type": "code",
   "execution_count": 3,
   "id": "c57eed80",
   "metadata": {},
   "outputs": [
    {
     "name": "stdout",
     "output_type": "stream",
     "text": [
      "SE of the linear trend is 0.005\n",
      "Linear trend of April is 0.044\n",
      "confidence interval (+/-) 0.01 degF/yr\n"
     ]
    }
   ],
   "source": [
    "# calculate 95% CI of April temperature trend\n",
    "# covariance for April\n",
    "gd=(~np.isnan(apr1)) # check if missing data\n",
    "N=np.size(year)\n",
    "df=N-2\n",
    "c=np.cov(year[gd],apr1[gd])\n",
    "a1=c[0,1]/c[0,0]\n",
    "b1=np.mean(apr1[gd])-a1*np.mean(year[gd])\n",
    "MSE=np.sum((apr1[gd]-(a1*year[gd]+b1))**2)/(N-2)\n",
    "SE2=MSE/np.sum((year[gd]-np.mean(year[gd]))**2)\n",
    "SE=np.sqrt(SE2)\n",
    "CI=2*SE\n",
    "print('SE of the linear trend is '+str(SE.round(3)))\n",
    "print('Linear trend of April is '+str(a1.round(3))+'\\nconfidence interval (+/-) '+str(CI.round(3))+' degF/yr')"
   ]
  },
  {
   "cell_type": "code",
   "execution_count": 4,
   "id": "bc22f847",
   "metadata": {},
   "outputs": [
    {
     "name": "stdout",
     "output_type": "stream",
     "text": [
      "SE of the linear trend is 0.006\n",
      "Linear trend of November is 0.044\n",
      "confidence interval (+/-) 0.012 degF/yr\n"
     ]
    }
   ],
   "source": [
    "# calculate 95% CI of November temperature trend\n",
    "# covariance for November\n",
    "gd=(~np.isnan(nov1)) # check if missing data\n",
    "N=np.size(year)\n",
    "df=N-2\n",
    "c=np.cov(year[gd],apr1[gd])\n",
    "a1=c[0,1]/c[0,0]\n",
    "b1=np.mean(nov1[gd])-a1*np.mean(year[gd])\n",
    "MSE=np.sum((nov1[gd]-(a1*year[gd]+b1))**2)/(N-2)\n",
    "SE2=MSE/np.sum((year[gd]-np.mean(year[gd]))**2)\n",
    "SE=np.sqrt(SE2)\n",
    "CI=2*SE\n",
    "print('SE of the linear trend is '+str(SE.round(3)))\n",
    "print('Linear trend of November is '+str(a1.round(3))+'\\nconfidence interval (+/-) '+str(CI.round(3))+' degF/yr')"
   ]
  },
  {
   "cell_type": "markdown",
   "id": "c67900e2",
   "metadata": {},
   "source": [
    "## Part II: Testing statistical significance of correlation"
   ]
  },
  {
   "cell_type": "code",
   "execution_count": 5,
   "id": "48d3b8b5",
   "metadata": {},
   "outputs": [],
   "source": [
    "# time range 1947-2020 becuase NOLA data does not \n",
    "#tr=[1947,2020]\n",
    "df1=pd.read_excel('LANOLAmeantempdata.xlsx',sheet_name='LA')\n",
    "df2=pd.read_excel('LANOLAmeantempdata.xlsx',sheet_name='NOLA')\n",
    "\n",
    "# pick a month\n",
    "month='January' # January\n",
    "year=df1['Year']\n",
    "N=np.size(year)\n",
    "Temp=np.zeros((N,2)) # prepare an empty array"
   ]
  },
  {
   "cell_type": "code",
   "execution_count": 6,
   "id": "ba7af00b",
   "metadata": {},
   "outputs": [],
   "source": [
    "# 2 cities\n",
    "city=['LA', 'NOLA']\n",
    "Temp[:,0]=df1[month]\n",
    "Temp[:,1]=df2[month]\n",
    "# create the \"Mask\" for missing data\n",
    "Mask=(Temp==-999)\n",
    "Tempma=ma.array(Temp,mask=Mask)"
   ]
  },
  {
   "cell_type": "code",
   "execution_count": 7,
   "id": "1b34e1eb",
   "metadata": {},
   "outputs": [
    {
     "data": {
      "text/html": [
       "<div>\n",
       "<style scoped>\n",
       "    .dataframe tbody tr th:only-of-type {\n",
       "        vertical-align: middle;\n",
       "    }\n",
       "\n",
       "    .dataframe tbody tr th {\n",
       "        vertical-align: top;\n",
       "    }\n",
       "\n",
       "    .dataframe thead th {\n",
       "        text-align: right;\n",
       "    }\n",
       "</style>\n",
       "<table border=\"1\" class=\"dataframe\">\n",
       "  <thead>\n",
       "    <tr style=\"text-align: right;\">\n",
       "      <th></th>\n",
       "      <th>LA</th>\n",
       "      <th>NOLA</th>\n",
       "    </tr>\n",
       "  </thead>\n",
       "  <tbody>\n",
       "    <tr>\n",
       "      <th>0</th>\n",
       "      <td>1.00000</td>\n",
       "      <td>-0.35574</td>\n",
       "    </tr>\n",
       "    <tr>\n",
       "      <th>1</th>\n",
       "      <td>-0.35574</td>\n",
       "      <td>1.00000</td>\n",
       "    </tr>\n",
       "  </tbody>\n",
       "</table>\n",
       "</div>"
      ],
      "text/plain": [
       "        LA     NOLA\n",
       "0  1.00000 -0.35574\n",
       "1 -0.35574  1.00000"
      ]
     },
     "execution_count": 7,
     "metadata": {},
     "output_type": "execute_result"
    }
   ],
   "source": [
    "tr=[1900,2020]\n",
    "gd=(year>=tr[0]) & (year<=tr[1])\n",
    "D=Tempma[gd,:]\n",
    "c=np.ma.corrcoef(D.T)\n",
    "df=pd.DataFrame(c,columns=city)\n",
    "df"
   ]
  },
  {
   "cell_type": "code",
   "execution_count": 8,
   "id": "64741438",
   "metadata": {},
   "outputs": [
    {
     "data": {
      "text/html": [
       "<div>\n",
       "<style scoped>\n",
       "    .dataframe tbody tr th:only-of-type {\n",
       "        vertical-align: middle;\n",
       "    }\n",
       "\n",
       "    .dataframe tbody tr th {\n",
       "        vertical-align: top;\n",
       "    }\n",
       "\n",
       "    .dataframe thead th {\n",
       "        text-align: right;\n",
       "    }\n",
       "</style>\n",
       "<table border=\"1\" class=\"dataframe\">\n",
       "  <thead>\n",
       "    <tr style=\"text-align: right;\">\n",
       "      <th></th>\n",
       "      <th>LA</th>\n",
       "      <th>NOLA</th>\n",
       "    </tr>\n",
       "  </thead>\n",
       "  <tbody>\n",
       "    <tr>\n",
       "      <th>0</th>\n",
       "      <td>NaN</td>\n",
       "      <td>True</td>\n",
       "    </tr>\n",
       "    <tr>\n",
       "      <th>1</th>\n",
       "      <td>True</td>\n",
       "      <td>NaN</td>\n",
       "    </tr>\n",
       "  </tbody>\n",
       "</table>\n",
       "</div>"
      ],
      "text/plain": [
       "     LA  NOLA\n",
       "0   NaN  True\n",
       "1  True   NaN"
      ]
     },
     "execution_count": 8,
     "metadata": {},
     "output_type": "execute_result"
    }
   ],
   "source": [
    "# Let's perform significance test with 95% confidence level (2 tail)\n",
    "tval = np.abs(c)*np.sqrt((N-2)/(1-c**2))\n",
    "# since N > 30, we can use Gaussian distribution\n",
    "tcrit= 2.0\n",
    "test = (tval) > tcrit\n",
    "df=pd.DataFrame(test,columns=city)\n",
    "df"
   ]
  },
  {
   "cell_type": "code",
   "execution_count": 9,
   "id": "e06eb54a",
   "metadata": {},
   "outputs": [],
   "source": [
    "#detrend data\n",
    "from scipy import signal\n",
    "Temp[:,0]=signal.detrend(df1[month])\n",
    "Temp[:,1]=signal.detrend(df2[month])"
   ]
  },
  {
   "cell_type": "code",
   "execution_count": 10,
   "id": "33b0f8aa",
   "metadata": {},
   "outputs": [
    {
     "data": {
      "text/html": [
       "<div>\n",
       "<style scoped>\n",
       "    .dataframe tbody tr th:only-of-type {\n",
       "        vertical-align: middle;\n",
       "    }\n",
       "\n",
       "    .dataframe tbody tr th {\n",
       "        vertical-align: top;\n",
       "    }\n",
       "\n",
       "    .dataframe thead th {\n",
       "        text-align: right;\n",
       "    }\n",
       "</style>\n",
       "<table border=\"1\" class=\"dataframe\">\n",
       "  <thead>\n",
       "    <tr style=\"text-align: right;\">\n",
       "      <th></th>\n",
       "      <th>LA</th>\n",
       "      <th>NOLA</th>\n",
       "    </tr>\n",
       "  </thead>\n",
       "  <tbody>\n",
       "    <tr>\n",
       "      <th>0</th>\n",
       "      <td>1.000000</td>\n",
       "      <td>-0.409903</td>\n",
       "    </tr>\n",
       "    <tr>\n",
       "      <th>1</th>\n",
       "      <td>-0.409903</td>\n",
       "      <td>1.000000</td>\n",
       "    </tr>\n",
       "  </tbody>\n",
       "</table>\n",
       "</div>"
      ],
      "text/plain": [
       "         LA      NOLA\n",
       "0  1.000000 -0.409903\n",
       "1 -0.409903  1.000000"
      ]
     },
     "execution_count": 10,
     "metadata": {},
     "output_type": "execute_result"
    }
   ],
   "source": [
    "tr=[1900,2020]\n",
    "gd=(year>=tr[0]) & (year<=tr[1])\n",
    "D=Tempma[gd,:]\n",
    "c=np.ma.corrcoef(D.T)\n",
    "df=pd.DataFrame(c,columns=city)\n",
    "df"
   ]
  },
  {
   "cell_type": "code",
   "execution_count": 11,
   "id": "61bb6fce",
   "metadata": {},
   "outputs": [
    {
     "data": {
      "text/html": [
       "<div>\n",
       "<style scoped>\n",
       "    .dataframe tbody tr th:only-of-type {\n",
       "        vertical-align: middle;\n",
       "    }\n",
       "\n",
       "    .dataframe tbody tr th {\n",
       "        vertical-align: top;\n",
       "    }\n",
       "\n",
       "    .dataframe thead th {\n",
       "        text-align: right;\n",
       "    }\n",
       "</style>\n",
       "<table border=\"1\" class=\"dataframe\">\n",
       "  <thead>\n",
       "    <tr style=\"text-align: right;\">\n",
       "      <th></th>\n",
       "      <th>LA</th>\n",
       "      <th>NOLA</th>\n",
       "    </tr>\n",
       "  </thead>\n",
       "  <tbody>\n",
       "    <tr>\n",
       "      <th>0</th>\n",
       "      <td>NaN</td>\n",
       "      <td>True</td>\n",
       "    </tr>\n",
       "    <tr>\n",
       "      <th>1</th>\n",
       "      <td>True</td>\n",
       "      <td>NaN</td>\n",
       "    </tr>\n",
       "  </tbody>\n",
       "</table>\n",
       "</div>"
      ],
      "text/plain": [
       "     LA  NOLA\n",
       "0   NaN  True\n",
       "1  True   NaN"
      ]
     },
     "execution_count": 11,
     "metadata": {},
     "output_type": "execute_result"
    }
   ],
   "source": [
    "# Let's perform significance test with 95% confidence level (2 tail)\n",
    "tval = np.abs(c)*np.sqrt((N-2)/(1-c**2))\n",
    "# since N > 30, we can use Gaussian distribution\n",
    "tcrit= 2.0\n",
    "test = (tval) > tcrit\n",
    "df=pd.DataFrame(test,columns=city)\n",
    "df"
   ]
  },
  {
   "cell_type": "markdown",
   "id": "491fa94b",
   "metadata": {},
   "source": [
    "### Yes, the correlation coffeficient changed when the data was detrended. The cities are negatively correlated. "
   ]
  },
  {
   "cell_type": "code",
   "execution_count": null,
   "id": "37bc3f72",
   "metadata": {},
   "outputs": [],
   "source": []
  }
 ],
 "metadata": {
  "kernelspec": {
   "display_name": "Python 3",
   "language": "python",
   "name": "python3"
  },
  "language_info": {
   "codemirror_mode": {
    "name": "ipython",
    "version": 3
   },
   "file_extension": ".py",
   "mimetype": "text/x-python",
   "name": "python",
   "nbconvert_exporter": "python",
   "pygments_lexer": "ipython3",
   "version": "3.8.8"
  }
 },
 "nbformat": 4,
 "nbformat_minor": 5
}
